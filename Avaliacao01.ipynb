{
  "cells": [
    {
      "cell_type": "markdown",
      "metadata": {
        "id": "tpjh6L2GKghA"
      },
      "source": [
        "## Avaliação 1"
      ]
    },
    {
      "cell_type": "markdown",
      "metadata": {
        "id": "_hBSVT-yKmIU"
      },
      "source": [
        "#### Questão 1\n"
      ]
    },
    {
      "cell_type": "markdown",
      "metadata": {
        "id": "PDs-vYJLKq6U"
      },
      "source": [
        "Considere o seguinte problema:\n",
        "\n",
        "Uma loja deseja criar um sistema para calcular o desconto em uma compra, com base no valor total da compra e no tipo de cliente. Existem dois tipos de clientes: regulares e VIP. Clientes regulares têm direito a um desconto de `10%` se o valor da compra for maior que `R$100,00`. Clientes VIP têm direito a um desconto de `20%` se o valor da compra for maior que `R$200,00`.\n",
        "\n",
        "Escreva uma função em Python chamada `calcular_desconto` que recebe os seguintes argumentos:\n",
        "\n",
        "- `valor_compra` (float): Valor total da compra\n",
        "- `tipo_cliente` (string): Tipo do cliente ('regular' ou 'VIP')\n",
        "\n",
        "A função deve calcular o desconto aplicável à compra com base nas regras mencionadas acima e retornar o valor total da compra após o desconto ser aplicado. Se o valor da compra não atender aos critérios de desconto para nenhum dos tipos de cliente, a função deve retornar o valor original da compra.\n",
        "\n",
        "A função deve retornar:\n",
        "\n",
        "- `valor_final`(float): Valor final da compra\n",
        "- `desconto` (int): Valor da porcentagem aplicada\n",
        "\n",
        "Após implementar a função, crie 3 situações de uso que exemplifique as 3 situações distintas de execução da função. Crie variáveis, faça as chamadas da função e imprima o valor inicial, o valor_final formatado com duas casas decimais e a porcentagem de desconto aplicada."
      ]
    },
    {
      "cell_type": "code",
      "execution_count": 18,
      "metadata": {
        "id": "t1eNSPcSKdeo"
      },
      "outputs": [
        {
          "name": "stdout",
          "output_type": "stream",
          "text": [
            "O valor inicial é: 100.0, para o cliente vip, foi oferecido um desconto de:  Você não tem direito a desconto porque sua compra é menor que 100 para regular e 200 para vip.\n"
          ]
        }
      ],
      "source": [
        "def calcular_desconto(valor_compra, tipo_cliente):\n",
        "    cliente = tipo_cliente.lower()\n",
        "    if(cliente == \"\"):\n",
        "        print(\"Você não indicou o tipo de cliente\")\n",
        "    elif(valor_compra >= 100 and cliente == \"regular\"):\n",
        "        desconto = (0.10 * valor_compra)\n",
        "        valor_final = valor_compra - desconto\n",
        "        return valor_final\n",
        "    elif(valor_compra >= 200 and cliente == \"vip\"):\n",
        "        desconto = (0.20 * valor_compra)\n",
        "        valor_final = valor_compra - desconto\n",
        "        return valor_final\n",
        "    else: \n",
        "        return \"Você não tem direito a desconto porque sua compra é menor que 100 para regular e 200 para vip.\"\n",
        "\n",
        "valor = float(input(\"Qual o valor da sua compra? \"))\n",
        "tipo = str(input(f\"Qual seu tipo de cliente? \"))\n",
        "\n",
        "print(f\"O valor inicial é: {valor}, para o cliente {tipo}, foi oferecido um desconto de: \", calcular_desconto(valor, tipo))\n",
        "\n"
      ]
    },
    {
      "cell_type": "markdown",
      "metadata": {
        "id": "Rk-eHg-ALeJc"
      },
      "source": [
        "#### Questão 2\n"
      ]
    },
    {
      "cell_type": "markdown",
      "metadata": {
        "id": "RsCb33voL5xI"
      },
      "source": [
        "Considere a seguinte necessidade:\n",
        "\n",
        "Um escritor precisa de uma função que inverta as palavras de uma frase, por exemplo, ao chamar a função com a frase \"Python é uma linguagem de programação\", ela deve retornar \"nohtyP é amu meganil ed oãçamargorp\".\n",
        "\n",
        "Escreva uma função em Python chamada `inverter_palavras` que recebe uma frase como argumento e retorna outra frase onde as palavras estão invertidas. Considere que uma palavra é definida por uma sequência de caracteres separada por espaços.\n",
        "\n",
        "Após implementar a função, crie variáveis, faça a chamada da função e imprima a frase original e a frase modificada retornada pela função"
      ]
    },
    {
      "cell_type": "code",
      "execution_count": 20,
      "metadata": {
        "id": "X4STYU80MgDs"
      },
      "outputs": [
        {
          "name": "stdout",
          "output_type": "stream",
          "text": [
            "A frase original foi: Python é uma linguagem de programação\n",
            "A frase invertida ficou: nohtyP é amu megaugnil ed oãçamargorp\n"
          ]
        }
      ],
      "source": [
        "def inverter_palavras(frase):\n",
        "    palavras = frase.split()\n",
        "    invertida = []\n",
        "    for palavra in palavras:\n",
        "        invertida.append(palavra[::-1])\n",
        "    return ' '.join(invertida)\n",
        "\n",
        "frase_original = \"Python é uma linguagem de programação\"\n",
        "frase_invertida = inverter_palavras(frase_original)\n",
        "\n",
        "print(f\"A frase original foi: {frase_original}\")\n",
        "print(f\"A frase invertida ficou: {frase_invertida}\")"
      ]
    },
    {
      "cell_type": "markdown",
      "metadata": {
        "id": "XBj0gjaVPLyo"
      },
      "source": [
        "#### Questão 3"
      ]
    },
    {
      "cell_type": "markdown",
      "metadata": {
        "id": "tyy14LmYPOCF"
      },
      "source": [
        "Considere o seguinte cenário:\n",
        "\n",
        "Uma loja deseja criar um sistema para gerenciar o estoque de produtos. Cada produto tem um código único, um nome, uma quantidade em estoque e um preço unitário. A loja deseja realizar operações como adicionar novos produtos, atualizar o estoque existente, remover produtos e exibir o estoque atual.\n",
        "\n",
        "Escreva um programa em Python que ofereça as seguintes funcionalidades:\n",
        "\n",
        "- Adicionar um novo produto ao estoque.\n",
        "- Atualizar o estoque de um produto existente.\n",
        "- Remover um produto do estoque.\n",
        "- Exibir o estoque atual, mostrando o código, nome, quantidade em estoque e o preço unitário de cada produto.\n",
        "\n",
        "Utilize um dicionário para representar o estoque, onde as chaves são os códigos dos produtos e os valores são outros dicionários contendo as informações de cada produto.\n",
        "\n",
        "- Implemente cada funcionalidade em uma função.\n",
        "- Adicione pelo menos 5 produtos ao estoque.\n",
        "- Altere pelo menos 2 produtos do estoque.\n",
        "- Remova ao menos 1 produto do estoque.\n",
        "- Faça ao menos 1 chamada da função que exibe a situação atual do estoque."
      ]
    },
    {
      "cell_type": "code",
      "execution_count": null,
      "metadata": {
        "id": "bL6UFyWSRGS2"
      },
      "outputs": [],
      "source": [
        "def adicionar (estoque, codigo, nome, quantidade, preco): \n",
        "    if codigo not in estoque: \n",
        "        estoque[codigo] = {'nome': nome, 'qtd': quantidade, 'preco': preco}\n",
        "    else: "
      ]
    },
    {
      "cell_type": "markdown",
      "metadata": {
        "id": "eDfXpgWhRGgF"
      },
      "source": [
        "#### Questão 4"
      ]
    },
    {
      "cell_type": "markdown",
      "metadata": {
        "id": "vdW-TIJZRIni"
      },
      "source": [
        "Considere a necessidade de uma empresa de criar um sistema de cadastro de funcionários:\n",
        "\n",
        "Para isso, vamos criar um cadastro de funcionários em Python. Cada funcionário terá nome, idade, cargo e salário. Implemente uma classe `Funcionario` com os seguintes requisitos:\n",
        "\n",
        "- O construtor deve inicializar os atributos nome, idade, cargo e salario.\n",
        "- Implemente o método `aumentar_salário` que deve aumentar o salário do funcionário em uma determinada porcentagem, representando um aumento salarial.\n",
        "- Implemente o método `promover` que deve modificar o cargo e o salário do funcionário.\n",
        "- Implemente o método `aniversario` que deve aumentar a idade do funcionário em um ano e deve imprimir uma mensagem de feliz aniversário.\n",
        "- Implemente o método `exibir_informacoes` que deve imprimir: o nome do funcionário, a idade, o cargo e o salário atual.\n",
        "\n",
        "Escreva um programa para testar sua classe.\n",
        "\n",
        "- Crie pelo menos 2 objetos da classe Funcionario com diferentes informações.\n",
        "- Execute ao menos 1 vez cada método para cada objeto criado."
      ]
    },
    {
      "cell_type": "code",
      "execution_count": 4,
      "metadata": {
        "id": "CjHk5kFeTDPu"
      },
      "outputs": [
        {
          "name": "stdout",
          "output_type": "stream",
          "text": [
            "ANTÔNIO seu novo cargo é: ANALISTA, e seu novo salário é: 1443.6 e sua idade é: 23\n",
            "JOSÉ seu novo cargo é: CHEFE, e seu novo salário é: 2705.4 e sua idade é: 26\n",
            "novo salário : 1803.6\n"
          ]
        }
      ],
      "source": [
        "class Funcionario:\n",
        "    def __init__ (self, salario, nome, idade, cargo):\n",
        "        self.salario = salario\n",
        "        self.nome = nome.upper() \n",
        "        self.idade = idade\n",
        "        self.cargo = cargo.upper()\n",
        "    def aumentar_salario(self):\n",
        "        salario_novo = (self.salario * 0.2) + self.salario\n",
        "        print(f'novo salário : {salario_novo}') \n",
        "    def promover(self):\n",
        "        if(self.cargo == \"OPERARIO\"):\n",
        "            cargo_novo = self.cargo = \"ANALISTA\"\n",
        "            salario_novo = (self.salario * 0.2) + self.salario\n",
        "            print(f\"{self.nome} seu novo cargo é: {cargo_novo}, e seu novo salário é: {salario_novo} e sua idade é: {self.idade + 1}\")\n",
        "        elif(self.cargo == \"ANALISTA\"):\n",
        "            cargo_novo = self.cargo = \"GERENTE\"\n",
        "            salario_novo = (self.salario * 0.4) + self.salario\n",
        "            print(f\"{self.nome} seu novo cargo é: {cargo_novo}, e seu novo salário é: {salario_novo} e sua idade é: {self.idade + 1}\")\n",
        "        elif(self.cargo == \"GERENTE\"):\n",
        "            cargo_novo = self.cargo = \"CHEFE\"\n",
        "            salario_novo = (self.salario * 0.8) + self.salario\n",
        "            print(f\"{self.nome} seu novo cargo é: {cargo_novo}, e seu novo salário é: {salario_novo} e sua idade é: {self.idade + 1}\")\n",
        "        else:\n",
        "            print(\"Opção inválida\")\n",
        "    def aniversario(self):\n",
        "        print(f'nova idade : {self.idade + 1}')\n",
        "    \n",
        "\n",
        "x = Funcionario(1203, \"Antônio\", 22, \"operario\")\n",
        "y = Funcionario(1503, \"José\", 25, \"gerente\")\n",
        "(x.promover())\n",
        "(y.promover())\n",
        "(y.aumentar_salario())"
      ]
    }
  ],
  "metadata": {
    "colab": {
      "provenance": []
    },
    "kernelspec": {
      "display_name": "Python 3",
      "name": "python3"
    },
    "language_info": {
      "codemirror_mode": {
        "name": "ipython",
        "version": 3
      },
      "file_extension": ".py",
      "mimetype": "text/x-python",
      "name": "python",
      "nbconvert_exporter": "python",
      "pygments_lexer": "ipython3",
      "version": "3.10.12"
    }
  },
  "nbformat": 4,
  "nbformat_minor": 0
}
